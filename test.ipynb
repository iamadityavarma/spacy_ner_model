{
 "cells": [
  {
   "cell_type": "code",
   "execution_count": 5,
   "id": "22e0d982",
   "metadata": {},
   "outputs": [],
   "source": [
    "import spacy"
   ]
  },
  {
   "cell_type": "code",
   "execution_count": 8,
   "id": "9b5d8c52",
   "metadata": {},
   "outputs": [
    {
     "name": "stderr",
     "output_type": "stream",
     "text": [
      "c:\\Aditya\\folders\\Study_Vault\\Proxzar\\Capstone\\myenv\\lib\\site-packages\\spacy\\util.py:910: UserWarning: [W095] Model 'en_pipeline' (0.0.0) was trained with spaCy v3.8.7 and may not be 100% compatible with the current version (3.7.2). If you see errors or degraded performance, download a newer compatible model or retrain your custom model with the current spaCy version. For more details and available updates, run: python -m spacy validate\n",
      "  warnings.warn(warn_msg)\n"
     ]
    }
   ],
   "source": [
    "nlp = spacy.load(\"models\")"
   ]
  },
  {
   "cell_type": "code",
   "execution_count": 7,
   "id": "d2e8607b",
   "metadata": {},
   "outputs": [
    {
     "name": "stdout",
     "output_type": "stream",
     "text": [
      "Culpeper Wood Preservers BRAND\n",
      "2\" x 6\" x 10' DIMENSIONS\n"
     ]
    }
   ],
   "source": [
    "doc = nlp(\" Culpeper Wood Preservers 2\\\" x 6\\\" x 10'\")\n",
    "\n",
    "for ent in doc.ents:\n",
    "    print(ent.text, ent.label_)"
   ]
  },
  {
   "cell_type": "code",
   "execution_count": 1,
   "id": "07a1b3f9",
   "metadata": {},
   "outputs": [
    {
     "name": "stdout",
     "output_type": "stream",
     "text": [
      "Status code: 400\n",
      "Response JSON: {\n",
      "  \"error\": {\n",
      "    \"message\": \"deepseek-chat is not a valid model ID\",\n",
      "    \"code\": 400\n",
      "  },\n",
      "  \"user_id\": \"user_306umtf533dBIVY9r6J0EyHXybP\"\n",
      "}\n"
     ]
    }
   ],
   "source": [
    "import os\n",
    "import requests\n",
    "import json\n",
    "\n",
    "# If using a .env file, uncomment the next two lines:\n",
    "# from dotenv import load_dotenv\n",
    "# load_dotenv()\n",
    "\n",
    "# Set your API key here or ensure it's in your environment variables\n",
    "API_KEY = \"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\" # Replace with your key if not using env\n",
    "\n",
    "url = \"https://openrouter.ai/api/v1/chat/completions\"\n",
    "headers = {\n",
    "    \"Authorization\": f\"Bearer {API_KEY}\",\n",
    "    \"Content-Type\": \"application/json\"\n",
    "}\n",
    "payload = {\n",
    "    \"model\": \"deepseek-chat\",  # Try \"deepseek-chat\" or check OpenRouter docs for the latest model name\n",
    "    \"messages\": [\n",
    "        {\"role\": \"system\", \"content\": \"You are a helpful assistant.\"},\n",
    "        {\"role\": \"user\", \"content\": \"Hello! Can you respond to this test message?\"}\n",
    "    ],\n",
    "    \"temperature\": 0.3,\n",
    "    \"max_tokens\": 50\n",
    "}\n",
    "\n",
    "try:\n",
    "    response = requests.post(url, headers=headers, json=payload)\n",
    "    print(\"Status code:\", response.status_code)\n",
    "    print(\"Response JSON:\", json.dumps(response.json(), indent=2))\n",
    "except Exception as e:\n",
    "    print(\"Error:\", e)\n",
    "    if hasattr(e, 'response') and e.response is not None:\n",
    "        print(\"Error response:\", e.response.text)"
   ]
  },
  {
   "cell_type": "code",
   "execution_count": 3,
   "id": "ff33a6d1",
   "metadata": {},
   "outputs": [
    {
     "name": "stdout",
     "output_type": "stream",
     "text": [
      "Status code: 200\n",
      "Response JSON: {\n",
      "  \"id\": \"gen-1752963033-BcyEGupbn759xPt49N88\",\n",
      "  \"provider\": \"Anthropic\",\n",
      "  \"model\": \"anthropic/claude-3-haiku\",\n",
      "  \"object\": \"chat.completion\",\n",
      "  \"created\": 1752963033,\n",
      "  \"choices\": [\n",
      "    {\n",
      "      \"logprobs\": null,\n",
      "      \"finish_reason\": \"stop\",\n",
      "      \"native_finish_reason\": \"stop\",\n",
      "      \"index\": 0,\n",
      "      \"message\": {\n",
      "        \"role\": \"assistant\",\n",
      "        \"content\": \"Hello! Yes, I can respond to your test message. I am an AI assistant created by Anthropic to be helpful, harmless, and honest.\",\n",
      "        \"refusal\": null,\n",
      "        \"reasoning\": null\n",
      "      }\n",
      "    }\n",
      "  ],\n",
      "  \"usage\": {\n",
      "    \"prompt_tokens\": 23,\n",
      "    \"completion_tokens\": 35,\n",
      "    \"total_tokens\": 58\n",
      "  }\n",
      "}\n"
     ]
    }
   ],
   "source": [
    "import os\n",
    "import requests\n",
    "import json\n",
    "\n",
    "# Set your API key here or ensure it's in your environment variables\n",
    "API_KEY = \"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\"\n",
    "\n",
    "url = \"https://openrouter.ai/api/v1/chat/completions\"\n",
    "headers = {\n",
    "    \"Authorization\": f\"Bearer {API_KEY}\",\n",
    "    \"Content-Type\": \"application/json\"\n",
    "}\n",
    "payload = {\n",
    "    \"model\": \"anthropic/claude-3-haiku\",  # Using a commonly available model\n",
    "    \"messages\": [\n",
    "        {\"role\": \"system\", \"content\": \"You are a helpful assistant.\"},\n",
    "        {\"role\": \"user\", \"content\": \"Hello! Can you respond to this test message?\"}\n",
    "    ],\n",
    "    \"temperature\": 0.3,\n",
    "    \"max_tokens\": 50\n",
    "}\n",
    "\n",
    "try:\n",
    "    response = requests.post(url, headers=headers, json=payload)\n",
    "    print(\"Status code:\", response.status_code)\n",
    "    print(\"Response JSON:\", json.dumps(response.json(), indent=2))\n",
    "except Exception as e:\n",
    "    print(\"Error:\", e)\n",
    "    if hasattr(e, 'response') and e.response is not None:\n",
    "        print(\"Error response:\", e.response.text)"
   ]
  }
 ],
 "metadata": {
  "kernelspec": {
   "display_name": "myenv",
   "language": "python",
   "name": "python3"
  },
  "language_info": {
   "codemirror_mode": {
    "name": "ipython",
    "version": 3
   },
   "file_extension": ".py",
   "mimetype": "text/x-python",
   "name": "python",
   "nbconvert_exporter": "python",
   "pygments_lexer": "ipython3",
   "version": "3.10.1"
  }
 },
 "nbformat": 4,
 "nbformat_minor": 5
}
